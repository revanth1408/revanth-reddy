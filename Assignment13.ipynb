{
  "nbformat": 4,
  "nbformat_minor": 0,
  "metadata": {
    "colab": {
      "name": "Assignment13.ipynb",
      "provenance": [],
      "authorship_tag": "ABX9TyN8j4p6n0pqMTlEgwiu5uka",
      "include_colab_link": true
    },
    "kernelspec": {
      "name": "python3",
      "display_name": "Python 3"
    }
  },
  "cells": [
    {
      "cell_type": "markdown",
      "metadata": {
        "id": "view-in-github",
        "colab_type": "text"
      },
      "source": [
        "<a href=\"https://colab.research.google.com/github/revanth1408/revanth-reddy/blob/master/Assignment13.ipynb\" target=\"_parent\"><img src=\"https://colab.research.google.com/assets/colab-badge.svg\" alt=\"Open In Colab\"/></a>"
      ]
    },
    {
      "cell_type": "markdown",
      "metadata": {
        "id": "M90rz2wmG5c4",
        "colab_type": "text"
      },
      "source": [
        "1.\tWhat is dictionary in Python? Explain with an example"
      ]
    },
    {
      "cell_type": "markdown",
      "metadata": {
        "id": "uqaJkbfuHE53",
        "colab_type": "text"
      },
      "source": [
        "Python Dictionary are defined into two elements i.e., keys and values\n",
        "    1. keys will be in Single Element\n",
        "    2. Values can be in list or list within a list,numbers etc."
      ]
    },
    {
      "cell_type": "markdown",
      "metadata": {
        "id": "XwQywfqCbu9-",
        "colab_type": "text"
      },
      "source": [
        "Syntax:  dict={'Revanth':24,jhdsfvy,...}"
      ]
    },
    {
      "cell_type": "code",
      "metadata": {
        "id": "SS9FXyBMba-q",
        "colab_type": "code",
        "colab": {
          "base_uri": "https://localhost:8080/",
          "height": 34
        },
        "outputId": "464f4248-4645-4b89-974b-599f5213777c"
      },
      "source": [
        "dict={'Revanth':25,'Sandeep':5,'Hemanth':19,'Charan':45}\n",
        "print(dict['Sandeep'])"
      ],
      "execution_count": 2,
      "outputs": [
        {
          "output_type": "stream",
          "text": [
            "5\n"
          ],
          "name": "stdout"
        }
      ]
    },
    {
      "cell_type": "markdown",
      "metadata": {
        "id": "wlrwNsb4Hk2t",
        "colab_type": "text"
      },
      "source": [
        "2.\tWrite a Python program to sum all the items in a list."
      ]
    },
    {
      "cell_type": "code",
      "metadata": {
        "id": "bhSGC30NHoXp",
        "colab_type": "code",
        "colab": {
          "base_uri": "https://localhost:8080/",
          "height": 34
        },
        "outputId": "8a2a0bee-5f66-4be9-92cf-3f8e5b72e30c"
      },
      "source": [
        "def sum_list(items):\n",
        "    sum_numbers = 0\n",
        "    for x in items:\n",
        "        sum_numbers += x\n",
        "    return sum_numbers\n",
        "print(sum_list([5,6,-8]))"
      ],
      "execution_count": null,
      "outputs": [
        {
          "output_type": "stream",
          "text": [
            "3\n"
          ],
          "name": "stdout"
        }
      ]
    },
    {
      "cell_type": "markdown",
      "metadata": {
        "id": "klKhTveHIauR",
        "colab_type": "text"
      },
      "source": [
        "3.\tWrite a Python program to create a list of empty dictionaries."
      ]
    },
    {
      "cell_type": "code",
      "metadata": {
        "id": "Gwhl4aaMH7TT",
        "colab_type": "code",
        "colab": {
          "base_uri": "https://localhost:8080/",
          "height": 34
        },
        "outputId": "fa87120f-ae59-485d-a425-e604ec9c0916"
      },
      "source": [
        "n = 5\n",
        "l = [{} for _ in range(n)]\n",
        "print(l)"
      ],
      "execution_count": null,
      "outputs": [
        {
          "output_type": "stream",
          "text": [
            "[{}, {}, {}, {}, {}]\n"
          ],
          "name": "stdout"
        }
      ]
    },
    {
      "cell_type": "markdown",
      "metadata": {
        "id": "GB35sDVpI1Bf",
        "colab_type": "text"
      },
      "source": [
        "4.\tWrite a Python program to access dictionary keys element by index."
      ]
    },
    {
      "cell_type": "code",
      "metadata": {
        "id": "U1GFgyMgIfIA",
        "colab_type": "code",
        "colab": {
          "base_uri": "https://localhost:8080/",
          "height": 34
        },
        "outputId": "444bbce5-3715-4481-9fe6-5a3002de28cf"
      },
      "source": [
        "num = {'physics': 89, 'math': 99, 'chemistry': 86}\n",
        "print(list(num)[1])"
      ],
      "execution_count": null,
      "outputs": [
        {
          "output_type": "stream",
          "text": [
            "math\n"
          ],
          "name": "stdout"
        }
      ]
    },
    {
      "cell_type": "markdown",
      "metadata": {
        "id": "gIBwRMVYJI8R",
        "colab_type": "text"
      },
      "source": [
        "5.\tWrite a Python program to iterate over dictionaries using for loops "
      ]
    },
    {
      "cell_type": "code",
      "metadata": {
        "id": "_An_vGy5JF_1",
        "colab_type": "code",
        "colab": {
          "base_uri": "https://localhost:8080/",
          "height": 68
        },
        "outputId": "e08372c3-1d14-4cc3-a9eb-856c0bc6b37f"
      },
      "source": [
        "d = {'x': 10, 'y': 20, 'z': 30} \n",
        "for dict_key, dict_value in d.items():\n",
        "    print(dict_key,'->',dict_value)"
      ],
      "execution_count": 1,
      "outputs": [
        {
          "output_type": "stream",
          "text": [
            "x -> 10\n",
            "y -> 20\n",
            "z -> 30\n"
          ],
          "name": "stdout"
        }
      ]
    },
    {
      "cell_type": "markdown",
      "metadata": {
        "id": "48XlYSJxLlxq",
        "colab_type": "text"
      },
      "source": [
        "6.\tWrite a Python program to sum all the items in a dictionary."
      ]
    },
    {
      "cell_type": "code",
      "metadata": {
        "id": "-MjDAPX_MHcz",
        "colab_type": "code",
        "colab": {
          "base_uri": "https://localhost:8080/",
          "height": 34
        },
        "outputId": "60128300-7650-4d76-a8b3-5d2e6980873f"
      },
      "source": [
        "my_dict = {'data1':100,'data2':-54,'data3':247}\n",
        "print(sum(my_dict.values()))"
      ],
      "execution_count": null,
      "outputs": [
        {
          "output_type": "stream",
          "text": [
            "293\n"
          ],
          "name": "stdout"
        }
      ]
    },
    {
      "cell_type": "markdown",
      "metadata": {
        "id": "WDAUNrTwMbwe",
        "colab_type": "text"
      },
      "source": [
        "7.\tWrite a Python script to concatenate following dictionaries to create a new one. \n",
        "  Sample Dictionary: \n",
        "a. dic1 = {1:10, 2:20} \n",
        "b. dic2 = {3:30, 4:40} \n",
        "c. dic3 = {5:50, 6:60} \n"
      ]
    },
    {
      "cell_type": "code",
      "metadata": {
        "id": "rcWXUDUhMVJi",
        "colab_type": "code",
        "colab": {
          "base_uri": "https://localhost:8080/",
          "height": 34
        },
        "outputId": "cfbd688d-a62e-46b9-b6a3-af98ab21e07a"
      },
      "source": [
        "dic1={1:10, 2:20}\n",
        "dic2={3:30, 4:40}\n",
        "dic3={5:50,6:60}\n",
        "dic4 = {}\n",
        "for d in (dic1, dic2, dic3): dic4.update(d)\n",
        "print(dic4)"
      ],
      "execution_count": null,
      "outputs": [
        {
          "output_type": "stream",
          "text": [
            "{1: 10, 2: 20, 3: 30, 4: 40, 5: 50, 6: 60}\n"
          ],
          "name": "stdout"
        }
      ]
    },
    {
      "cell_type": "code",
      "metadata": {
        "id": "e3LBk2Z-Mo-R",
        "colab_type": "code",
        "colab": {}
      },
      "source": [
        ""
      ],
      "execution_count": null,
      "outputs": []
    }
  ]
}