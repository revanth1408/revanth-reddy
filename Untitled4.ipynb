{
  "nbformat": 4,
  "nbformat_minor": 0,
  "metadata": {
    "colab": {
      "name": "Untitled4.ipynb",
      "provenance": [],
      "authorship_tag": "ABX9TyMUD/KE1x2CBZhNDOaugBgs",
      "include_colab_link": true
    },
    "kernelspec": {
      "name": "python3",
      "display_name": "Python 3"
    }
  },
  "cells": [
    {
      "cell_type": "markdown",
      "metadata": {
        "id": "view-in-github",
        "colab_type": "text"
      },
      "source": [
        "<a href=\"https://colab.research.google.com/github/revanth1408/revanth-reddy/blob/master/Untitled4.ipynb\" target=\"_parent\"><img src=\"https://colab.research.google.com/assets/colab-badge.svg\" alt=\"Open In Colab\"/></a>"
      ]
    },
    {
      "cell_type": "markdown",
      "metadata": {
        "id": "mFopuzC9GMi8",
        "colab_type": "text"
      },
      "source": [
        "1.\tWrite a Python program to calculate the length of a string."
      ]
    },
    {
      "cell_type": "code",
      "metadata": {
        "id": "hEtc0W_eGKy6",
        "colab_type": "code",
        "colab": {
          "base_uri": "https://localhost:8080/",
          "height": 34
        },
        "outputId": "b8116e4a-7242-4e5c-f998-47ac1a23002c"
      },
      "source": [
        "a=\"hello\"\n",
        "print(len(a))"
      ],
      "execution_count": null,
      "outputs": [
        {
          "output_type": "stream",
          "text": [
            "5\n"
          ],
          "name": "stdout"
        }
      ]
    },
    {
      "cell_type": "markdown",
      "metadata": {
        "id": "XJjJFHHdG5i3",
        "colab_type": "text"
      },
      "source": [
        "2.\tWrite a Python program to count the number of characters (character frequency) in a string."
      ]
    },
    {
      "cell_type": "code",
      "metadata": {
        "id": "yWZQf327G31T",
        "colab_type": "code",
        "colab": {
          "base_uri": "https://localhost:8080/",
          "height": 51
        },
        "outputId": "23441e1d-b3aa-4201-fc32-b8ee8e24764a"
      },
      "source": [
        "a=str(input('enter the string'))\n",
        "count=0\n",
        "for i in a:\n",
        "  count=count+1\n",
        "print(\"total no.of characters in this string=\",count)"
      ],
      "execution_count": null,
      "outputs": [
        {
          "output_type": "stream",
          "text": [
            "enter the stringrevanth\n",
            "total no.of characters in this string= 7\n"
          ],
          "name": "stdout"
        }
      ]
    },
    {
      "cell_type": "markdown",
      "metadata": {
        "id": "qZyWHnq1JVOQ",
        "colab_type": "text"
      },
      "source": [
        "3.\tWrite a Python program to get a single string from two given strings, separated by a space and swap the first two characters of each string"
      ]
    },
    {
      "cell_type": "code",
      "metadata": {
        "id": "qPalLuGlJOgV",
        "colab_type": "code",
        "colab": {
          "base_uri": "https://localhost:8080/",
          "height": 51
        },
        "outputId": "5247dba9-fa52-402b-a247-03d43259ec5f"
      },
      "source": [
        "c = input()\n",
        "t = len(c)\n",
        "temp = \"\"\n",
        "for i in range(0,len(c)):\n",
        "    if t<3:\n",
        "        break\n",
        "    else:\n",
        "        if i in (0,1,t-2,t-1):\n",
        "            temp = temp+c[i]\n",
        "        else:\n",
        "            continue\n",
        "print(temp)"
      ],
      "execution_count": null,
      "outputs": [
        {
          "output_type": "stream",
          "text": [
            "revanth\n",
            "reth\n"
          ],
          "name": "stdout"
        }
      ]
    },
    {
      "cell_type": "markdown",
      "metadata": {
        "id": "G18G6nKkJ28a",
        "colab_type": "text"
      },
      "source": [
        "4.\tWrite a Python script that takes input from the user and displays that input back in upper and lower cases\n"
      ]
    },
    {
      "cell_type": "code",
      "metadata": {
        "id": "zVndxWGFJs07",
        "colab_type": "code",
        "colab": {
          "base_uri": "https://localhost:8080/",
          "height": 34
        },
        "outputId": "47698556-7b91-41f4-b3ff-67417246f435"
      },
      "source": [
        "a=\"hello\"\n",
        "print(a.upper())\n",
        "\n",
        "\n"
      ],
      "execution_count": 6,
      "outputs": [
        {
          "output_type": "stream",
          "text": [
            "HELLO\n"
          ],
          "name": "stdout"
        }
      ]
    },
    {
      "cell_type": "code",
      "metadata": {
        "id": "ILkQTM4QBS5k",
        "colab_type": "code",
        "colab": {}
      },
      "source": [
        ""
      ],
      "execution_count": null,
      "outputs": []
    },
    {
      "cell_type": "markdown",
      "metadata": {
        "id": "Vxe1fIfSCaAH",
        "colab_type": "text"
      },
      "source": [
        "5.\tWrite a Python program to remove a newline in Python."
      ]
    },
    {
      "cell_type": "code",
      "metadata": {
        "id": "SZlq9zV-CbOT",
        "colab_type": "code",
        "colab": {
          "base_uri": "https://localhost:8080/",
          "height": 51
        },
        "outputId": "ffaafd12-555e-4702-adee-fdbe5ef3a96a"
      },
      "source": [
        "str1=\"hello\"\n",
        "print(str1)\n",
        "print(str1.strip())"
      ],
      "execution_count": 7,
      "outputs": [
        {
          "output_type": "stream",
          "text": [
            "hello\n",
            "hello\n"
          ],
          "name": "stdout"
        }
      ]
    },
    {
      "cell_type": "code",
      "metadata": {
        "id": "_9oJ0IROCurd",
        "colab_type": "code",
        "colab": {}
      },
      "source": [
        ""
      ],
      "execution_count": null,
      "outputs": []
    },
    {
      "cell_type": "markdown",
      "metadata": {
        "id": "uBllTYONC0xc",
        "colab_type": "text"
      },
      "source": [
        "6.\tWrite a Python program to count occurrences of a substring in a string.\n"
      ]
    },
    {
      "cell_type": "code",
      "metadata": {
        "id": "aG7ky8sJC_AI",
        "colab_type": "code",
        "colab": {
          "base_uri": "https://localhost:8080/",
          "height": 68
        },
        "outputId": "1849fe6c-2fbc-4102-956c-4f22cd17df27"
      },
      "source": [
        "str1 = 'this is revanth and i am from tadipatri and i wanna go for a tour'\n",
        "print()\n",
        "print(str1.count(\"and\"))\n",
        "print()"
      ],
      "execution_count": 8,
      "outputs": [
        {
          "output_type": "stream",
          "text": [
            "\n",
            "2\n",
            "\n"
          ],
          "name": "stdout"
        }
      ]
    },
    {
      "cell_type": "code",
      "metadata": {
        "id": "9Np880V9D6fJ",
        "colab_type": "code",
        "colab": {}
      },
      "source": [
        ""
      ],
      "execution_count": null,
      "outputs": []
    },
    {
      "cell_type": "markdown",
      "metadata": {
        "id": "eb5zCLRaD-94",
        "colab_type": "text"
      },
      "source": [
        "7.\tWrite a Python program to convert a string in a list.\n"
      ]
    },
    {
      "cell_type": "code",
      "metadata": {
        "id": "VIDuB_KBD_6Q",
        "colab_type": "code",
        "colab": {
          "base_uri": "https://localhost:8080/",
          "height": 34
        },
        "outputId": "91017b43-be35-42d7-a957-4bd4ff3f57c3"
      },
      "source": [
        "def Convert(string): \n",
        "    li = list(string.split(\"-\")) \n",
        "    return li    \n",
        "str1 = \"Revanth-Reddy-Chappidi\"\n",
        "print(Convert(str1)) "
      ],
      "execution_count": 10,
      "outputs": [
        {
          "output_type": "stream",
          "text": [
            "['Revanth', 'Reddy', 'Chappidi']\n"
          ],
          "name": "stdout"
        }
      ]
    },
    {
      "cell_type": "code",
      "metadata": {
        "id": "cEfNQ5r-ES2l",
        "colab_type": "code",
        "colab": {}
      },
      "source": [
        ""
      ],
      "execution_count": null,
      "outputs": []
    },
    {
      "cell_type": "markdown",
      "metadata": {
        "id": "wtuRTF3mEkQs",
        "colab_type": "text"
      },
      "source": [
        "8.\tWrite a Python program to perform Deletion of a character "
      ]
    },
    {
      "cell_type": "code",
      "metadata": {
        "id": "z7FndPblElIL",
        "colab_type": "code",
        "colab": {
          "base_uri": "https://localhost:8080/",
          "height": 129
        },
        "outputId": "56e638d5-f411-439a-b3b5-a2ce24a2d32e"
      },
      "source": [
        "s = 'Revanth'\n",
        "print(s.del('a',''))"
      ],
      "execution_count": 16,
      "outputs": [
        {
          "output_type": "error",
          "ename": "SyntaxError",
          "evalue": "ignored",
          "traceback": [
            "\u001b[0;36m  File \u001b[0;32m\"<ipython-input-16-948299d4758b>\"\u001b[0;36m, line \u001b[0;32m2\u001b[0m\n\u001b[0;31m    print(s.del('a',''))\u001b[0m\n\u001b[0m              ^\u001b[0m\n\u001b[0;31mSyntaxError\u001b[0m\u001b[0;31m:\u001b[0m invalid syntax\n"
          ]
        }
      ]
    },
    {
      "cell_type": "code",
      "metadata": {
        "id": "rt95FCXQE76b",
        "colab_type": "code",
        "colab": {}
      },
      "source": [
        ""
      ],
      "execution_count": null,
      "outputs": []
    },
    {
      "cell_type": "markdown",
      "metadata": {
        "id": "mTxey3FvFZPX",
        "colab_type": "text"
      },
      "source": [
        "9.\tWrite a program to print every character of a string entered by user in a new line using loop. "
      ]
    },
    {
      "cell_type": "code",
      "metadata": {
        "id": "xmZEjkedFZ9s",
        "colab_type": "code",
        "colab": {
          "base_uri": "https://localhost:8080/",
          "height": 85
        },
        "outputId": "7a3c660f-805c-48d5-ff97-edf240454128"
      },
      "source": [
        "word = 'pass'\n",
        "print(word[0])\n",
        "print(word[1])\n",
        "print(word[2])\n",
        "print(word[3])\n"
      ],
      "execution_count": 18,
      "outputs": [
        {
          "output_type": "stream",
          "text": [
            "p\n",
            "a\n",
            "s\n",
            "s\n"
          ],
          "name": "stdout"
        }
      ]
    },
    {
      "cell_type": "code",
      "metadata": {
        "id": "7YRDzVVfFtrZ",
        "colab_type": "code",
        "colab": {}
      },
      "source": [
        ""
      ],
      "execution_count": null,
      "outputs": []
    },
    {
      "cell_type": "markdown",
      "metadata": {
        "id": "o36L6EjEGAvb",
        "colab_type": "text"
      },
      "source": [
        "10.\tWrite a program to find the length of the string \"refrigerator\" without using len function. "
      ]
    },
    {
      "cell_type": "code",
      "metadata": {
        "id": "vCio6hJOGBls",
        "colab_type": "code",
        "colab": {}
      },
      "source": [
        ""
      ],
      "execution_count": null,
      "outputs": []
    }
  ]
}