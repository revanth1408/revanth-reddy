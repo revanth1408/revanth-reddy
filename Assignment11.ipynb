{
  "nbformat": 4,
  "nbformat_minor": 0,
  "metadata": {
    "colab": {
      "name": "Assignment11.ipynb",
      "provenance": [],
      "authorship_tag": "ABX9TyM62LpEwKQy7IMdTf5UIihi",
      "include_colab_link": true
    },
    "kernelspec": {
      "name": "python3",
      "display_name": "Python 3"
    }
  },
  "cells": [
    {
      "cell_type": "markdown",
      "metadata": {
        "id": "view-in-github",
        "colab_type": "text"
      },
      "source": [
        "<a href=\"https://colab.research.google.com/github/revanth1408/revanth-reddy/blob/master/Assignment11.ipynb\" target=\"_parent\"><img src=\"https://colab.research.google.com/assets/colab-badge.svg\" alt=\"Open In Colab\"/></a>"
      ]
    },
    {
      "cell_type": "markdown",
      "metadata": {
        "id": "lj6RR8PV0Fts",
        "colab_type": "text"
      },
      "source": [
        "1.write a python program to read an entire text file"
      ]
    },
    {
      "cell_type": "code",
      "metadata": {
        "id": "TTceLt7c0D4E",
        "colab_type": "code",
        "colab": {}
      },
      "source": [
        "f=open(\"python.txt\",\"w\")\n",
        "f.close()"
      ],
      "execution_count": 1,
      "outputs": []
    },
    {
      "cell_type": "code",
      "metadata": {
        "id": "Zt_ecCLB0MQo",
        "colab_type": "code",
        "colab": {}
      },
      "source": [
        "\n",
        "f=open(\"python1.txt\",\"w\")\n",
        "f.write(\"hey how do you do\")\n",
        "f.close()"
      ],
      "execution_count": 2,
      "outputs": []
    },
    {
      "cell_type": "code",
      "metadata": {
        "id": "sTQSB2xT0SB2",
        "colab_type": "code",
        "colab": {
          "base_uri": "https://localhost:8080/",
          "height": 34
        },
        "outputId": "a1bbdbfc-877a-40e0-d392-d32006df06c7"
      },
      "source": [
        "f=open(\"python1.txt\",\"r\")\n",
        "str=f.read()\n",
        "print(str)\n",
        "f.close()"
      ],
      "execution_count": 3,
      "outputs": [
        {
          "output_type": "stream",
          "text": [
            "hey how do you do\n"
          ],
          "name": "stdout"
        }
      ]
    },
    {
      "cell_type": "markdown",
      "metadata": {
        "id": "Yd7POjGJ0YWK",
        "colab_type": "text"
      },
      "source": [
        "2.write a python program to read first n lines of a file"
      ]
    },
    {
      "cell_type": "code",
      "metadata": {
        "id": "DAt1I8FT0U-Z",
        "colab_type": "code",
        "colab": {}
      },
      "source": [
        "a_file=open(\"file_name.txt\",\"w\")\n",
        "f.close()"
      ],
      "execution_count": 4,
      "outputs": []
    },
    {
      "cell_type": "code",
      "metadata": {
        "id": "1F-b7AHX0eN_",
        "colab_type": "code",
        "colab": {
          "base_uri": "https://localhost:8080/",
          "height": 34
        },
        "outputId": "264cf6b2-e24d-4fe5-9049-76da39d1f198"
      },
      "source": [
        "a_file = open(\"file_name.txt\")\n",
        "number_of_lines = 3\n",
        "for i in range(number_of_lines):\n",
        "    line = a_file.readline()\n",
        "print(line)"
      ],
      "execution_count": 5,
      "outputs": [
        {
          "output_type": "stream",
          "text": [
            "\n"
          ],
          "name": "stdout"
        }
      ]
    },
    {
      "cell_type": "markdown",
      "metadata": {
        "id": "QeiOzo6L0ild",
        "colab_type": "text"
      },
      "source": [
        "3.Write a Python program to append text to a file and display the text."
      ]
    },
    {
      "cell_type": "code",
      "metadata": {
        "id": "ynZoPBBa0g5w",
        "colab_type": "code",
        "colab": {}
      },
      "source": [
        "\n",
        "f=open(\"python.txt\",\"w\")\n",
        "f.close()"
      ],
      "execution_count": 6,
      "outputs": []
    },
    {
      "cell_type": "code",
      "metadata": {
        "id": "LMVhHSHk0oSf",
        "colab_type": "code",
        "colab": {}
      },
      "source": [
        "\n",
        "f=open(\"python1.txt\",\"w\")\n",
        "f.write(\"hey how do you do\")\n",
        "f.close()"
      ],
      "execution_count": 7,
      "outputs": []
    },
    {
      "cell_type": "code",
      "metadata": {
        "id": "PojhIbHP0qyY",
        "colab_type": "code",
        "colab": {
          "base_uri": "https://localhost:8080/",
          "height": 34
        },
        "outputId": "0c99d307-226b-40f6-8b7f-2e0d86ab82b6"
      },
      "source": [
        "f=open(\"python1.txt\",\"r\")\n",
        "print(f.read())\n",
        "f.close()"
      ],
      "execution_count": 8,
      "outputs": [
        {
          "output_type": "stream",
          "text": [
            "hey how do you do\n"
          ],
          "name": "stdout"
        }
      ]
    },
    {
      "cell_type": "markdown",
      "metadata": {
        "id": "mIi6S-vy0yX_",
        "colab_type": "text"
      },
      "source": [
        "\n",
        "4.Write a Python program to read last n lines of a file."
      ]
    },
    {
      "cell_type": "code",
      "metadata": {
        "id": "J0erLuhK0uDd",
        "colab_type": "code",
        "colab": {
          "base_uri": "https://localhost:8080/",
          "height": 34
        },
        "outputId": "88483348-632b-4545-d593-2fc15f8a07e5"
      },
      "source": [
        "def LastNlines(fname, N):\n",
        "  with open(fname) as file:\n",
        "    for line in (file.readlines() [-N:]):\n",
        "      print(line, end ='')\n",
        "if __name__ == '__main__':\n",
        "  fname = 'File1.txt'\n",
        "  N = 3\n",
        "  try:\n",
        "   LastNlines(fname, N) \n",
        "  except:\n",
        "   print('File not found')"
      ],
      "execution_count": 9,
      "outputs": [
        {
          "output_type": "stream",
          "text": [
            "File not found\n"
          ],
          "name": "stdout"
        }
      ]
    },
    {
      "cell_type": "markdown",
      "metadata": {
        "id": "29xyqmpt07jg",
        "colab_type": "text"
      },
      "source": [
        "5.Write a Python program to read a file line by line store it into a variable."
      ]
    },
    {
      "cell_type": "code",
      "metadata": {
        "id": "5K9AgesP04Cz",
        "colab_type": "code",
        "colab": {}
      },
      "source": [
        "f1=open(\"test.txt\",\"w\")\n",
        "f.close()"
      ],
      "execution_count": 10,
      "outputs": []
    },
    {
      "cell_type": "code",
      "metadata": {
        "id": "R_PdLMwq1AA6",
        "colab_type": "code",
        "colab": {}
      },
      "source": [
        "f1=open(\"test1.txt\",\"w\")\n",
        "f1.write(\"hi\")\n",
        "f.close()"
      ],
      "execution_count": 11,
      "outputs": []
    },
    {
      "cell_type": "code",
      "metadata": {
        "id": "P0oiV3F31CXa",
        "colab_type": "code",
        "colab": {
          "base_uri": "https://localhost:8080/",
          "height": 34
        },
        "outputId": "4692d4a3-3754-4cd1-bcfe-6630e54721bb"
      },
      "source": [
        "f1=open('test1.txt').readlines()\n",
        "print(f1)"
      ],
      "execution_count": 12,
      "outputs": [
        {
          "output_type": "stream",
          "text": [
            "[]\n"
          ],
          "name": "stdout"
        }
      ]
    },
    {
      "cell_type": "markdown",
      "metadata": {
        "id": "nXs9gljg1HcX",
        "colab_type": "text"
      },
      "source": [
        "6.write a program to read a file line by line store it into a list"
      ]
    },
    {
      "cell_type": "code",
      "metadata": {
        "id": "nVaAmdr31Fg9",
        "colab_type": "code",
        "colab": {}
      },
      "source": [
        "infile=open(\"test.txt\",\"w\")\n",
        "f.close()"
      ],
      "execution_count": 13,
      "outputs": []
    },
    {
      "cell_type": "code",
      "metadata": {
        "id": "RgQxUDvS1OuR",
        "colab_type": "code",
        "colab": {}
      },
      "source": [
        "infile=open(\"test1.txt\",\"w\")\n",
        "infile.write(\"hello\")\n",
        "f.close()"
      ],
      "execution_count": 14,
      "outputs": []
    },
    {
      "cell_type": "code",
      "metadata": {
        "id": "bvT3FM831RWk",
        "colab_type": "code",
        "colab": {
          "base_uri": "https://localhost:8080/",
          "height": 34
        },
        "outputId": "5549a739-950c-406e-d972-8857b067a875"
      },
      "source": [
        "infile = \"test1.txt\"\n",
        "content_list = open(infile).readlines()\n",
        "print (content_list)"
      ],
      "execution_count": 15,
      "outputs": [
        {
          "output_type": "stream",
          "text": [
            "['hello']\n"
          ],
          "name": "stdout"
        }
      ]
    },
    {
      "cell_type": "markdown",
      "metadata": {
        "id": "5rF9lHgr1W6q",
        "colab_type": "text"
      },
      "source": [
        "7.write a python program to read a file line by line store it into a array."
      ]
    },
    {
      "cell_type": "code",
      "metadata": {
        "id": "6Cvh3sug1UIA",
        "colab_type": "code",
        "colab": {}
      },
      "source": [
        "f2=open(\"test1.txt\",\"w\")\n",
        "f.close()"
      ],
      "execution_count": 16,
      "outputs": []
    },
    {
      "cell_type": "code",
      "metadata": {
        "id": "muwRWy_P1cFZ",
        "colab_type": "code",
        "colab": {}
      },
      "source": [
        "f2=open(\"test1.txt\",\"w\")\n",
        "s='''how\n",
        "     are\n",
        "     You'''\n",
        "f2.write(s)\n",
        "f.close()"
      ],
      "execution_count": 17,
      "outputs": []
    },
    {
      "cell_type": "code",
      "metadata": {
        "id": "e-8CVvWx1fSi",
        "colab_type": "code",
        "colab": {
          "base_uri": "https://localhost:8080/",
          "height": 34
        },
        "outputId": "f1afc03e-0cdb-482b-f90f-e2a011719231"
      },
      "source": [
        "f2=(\"test1.txt\")\n",
        "content_array=open(f2).readlines()\n",
        "print(content_array)"
      ],
      "execution_count": 18,
      "outputs": [
        {
          "output_type": "stream",
          "text": [
            "['how\\n', '     are\\n', '     You']\n"
          ],
          "name": "stdout"
        }
      ]
    },
    {
      "cell_type": "markdown",
      "metadata": {
        "id": "IdE8cfKh1k-G",
        "colab_type": "text"
      },
      "source": [
        "8.Write a Python program to count the number of lines in a text file."
      ]
    },
    {
      "cell_type": "code",
      "metadata": {
        "id": "a5_ydwoz1h6e",
        "colab_type": "code",
        "colab": {}
      },
      "source": [
        "f3=open(\"file.txt\",\"w\")\n",
        "f3.close()"
      ],
      "execution_count": 19,
      "outputs": []
    },
    {
      "cell_type": "code",
      "metadata": {
        "id": "xBsLa0zw1pVm",
        "colab_type": "code",
        "colab": {}
      },
      "source": [
        "f3=open(\"file.txt\",\"w\")\n",
        "s='''i\n",
        "     love to\n",
        "     Code'''\n",
        "f3.write(s)\n",
        "f3.close()"
      ],
      "execution_count": 20,
      "outputs": []
    },
    {
      "cell_type": "code",
      "metadata": {
        "id": "6t82DPgy1v0d",
        "colab_type": "code",
        "colab": {
          "base_uri": "https://localhost:8080/",
          "height": 34
        },
        "outputId": "0de85fe2-f920-457e-92eb-4bbb1a1acd9c"
      },
      "source": [
        "f3=open(\"file.txt\",\"r\")\n",
        "s=f3.read()\n",
        "print(len(s.split('\\n')))\n",
        "f.close()"
      ],
      "execution_count": 21,
      "outputs": [
        {
          "output_type": "stream",
          "text": [
            "3\n"
          ],
          "name": "stdout"
        }
      ]
    },
    {
      "cell_type": "markdown",
      "metadata": {
        "id": "E2DJo5Yi133p",
        "colab_type": "text"
      },
      "source": [
        "9.write a python program to get the file size of a plain file."
      ]
    },
    {
      "cell_type": "code",
      "metadata": {
        "id": "E_g4FhPD1ztp",
        "colab_type": "code",
        "colab": {}
      },
      "source": [
        "file=open(\"test.txt\",\"w\")\n",
        "f.close()"
      ],
      "execution_count": 22,
      "outputs": []
    },
    {
      "cell_type": "code",
      "metadata": {
        "id": "wRzHk56x177M",
        "colab_type": "code",
        "colab": {}
      },
      "source": [
        "file=open(\"test.txt\",\"w\")\n",
        "file.write(\"good night\")\n",
        "f.close()"
      ],
      "execution_count": 23,
      "outputs": []
    },
    {
      "cell_type": "code",
      "metadata": {
        "id": "9wrd3nCb1-Qs",
        "colab_type": "code",
        "colab": {
          "base_uri": "https://localhost:8080/",
          "height": 34
        },
        "outputId": "c6320052-3fc3-40b7-e430-3a30aba404e4"
      },
      "source": [
        "import os\n",
        "os.path.getsize(\"test.txt\")"
      ],
      "execution_count": 24,
      "outputs": [
        {
          "output_type": "execute_result",
          "data": {
            "text/plain": [
              "0"
            ]
          },
          "metadata": {
            "tags": []
          },
          "execution_count": 24
        }
      ]
    },
    {
      "cell_type": "markdown",
      "metadata": {
        "id": "_pPSMkhg2Dze",
        "colab_type": "text"
      },
      "source": [
        "10.write a python program to copy the contents of a file into another."
      ]
    },
    {
      "cell_type": "code",
      "metadata": {
        "id": "lCVDT9D22AuY",
        "colab_type": "code",
        "colab": {}
      },
      "source": [
        "file1=open(\"f1.txt\",\"w\")\n",
        "file1.close()"
      ],
      "execution_count": 25,
      "outputs": []
    },
    {
      "cell_type": "code",
      "metadata": {
        "id": "NuLcjIIo2KOR",
        "colab_type": "code",
        "colab": {}
      },
      "source": [
        "file1=open(\"f1.txt\",\"w\")\n",
        "s='''welcome \n",
        "     to gitam \n",
        "     University'''\n",
        "file1.write(s)\n",
        "file1.close()"
      ],
      "execution_count": 26,
      "outputs": []
    },
    {
      "cell_type": "code",
      "metadata": {
        "id": "6-Ryp-BC2M0d",
        "colab_type": "code",
        "colab": {}
      },
      "source": [
        "file2=open(\"f2.txt\",\"w\")\n",
        "file1=open(\"f1.txt\",\"r\")\n",
        "for line in file1:\n",
        "  file2.write(line)\n",
        "file1.close()\n",
        "file2.close()"
      ],
      "execution_count": 27,
      "outputs": []
    },
    {
      "cell_type": "code",
      "metadata": {
        "id": "Xi9D8sSa2Phs",
        "colab_type": "code",
        "colab": {}
      },
      "source": [
        ""
      ],
      "execution_count": null,
      "outputs": []
    }
  ]
}