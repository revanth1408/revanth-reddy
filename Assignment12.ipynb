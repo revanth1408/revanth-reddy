{
  "nbformat": 4,
  "nbformat_minor": 0,
  "metadata": {
    "colab": {
      "name": "Assignment12.ipynb",
      "provenance": [],
      "authorship_tag": "ABX9TyNnx+2CfUQbLb0vtew0/8pQ",
      "include_colab_link": true
    },
    "kernelspec": {
      "name": "python3",
      "display_name": "Python 3"
    }
  },
  "cells": [
    {
      "cell_type": "markdown",
      "metadata": {
        "id": "view-in-github",
        "colab_type": "text"
      },
      "source": [
        "<a href=\"https://colab.research.google.com/github/revanth1408/revanth-reddy/blob/master/Assignment12.ipynb\" target=\"_parent\"><img src=\"https://colab.research.google.com/assets/colab-badge.svg\" alt=\"Open In Colab\"/></a>"
      ]
    },
    {
      "cell_type": "markdown",
      "metadata": {
        "id": "NO1FQB1KMbLy",
        "colab_type": "text"
      },
      "source": [
        "Write a python program to create a tuple"
      ]
    },
    {
      "cell_type": "code",
      "metadata": {
        "id": "1xHnA8VhMYWd",
        "colab_type": "code",
        "colab": {
          "base_uri": "https://localhost:8080/",
          "height": 34
        },
        "outputId": "45b532c7-7a69-4328-9401-d227e9051d69"
      },
      "source": [
        "t1=(1,3,4,5,6,7)\n",
        "print(t1,type(t1))"
      ],
      "execution_count": 2,
      "outputs": [
        {
          "output_type": "stream",
          "text": [
            "(1, 3, 4, 5, 6, 7) <class 'tuple'>\n"
          ],
          "name": "stdout"
        }
      ]
    },
    {
      "cell_type": "markdown",
      "metadata": {
        "id": "GNCc21LuNCEH",
        "colab_type": "text"
      },
      "source": [
        "Write a python program to create a tuple with different datatypes"
      ]
    },
    {
      "cell_type": "code",
      "metadata": {
        "id": "2JRtZ336M04x",
        "colab_type": "code",
        "colab": {
          "base_uri": "https://localhost:8080/",
          "height": 34
        },
        "outputId": "7dc17c99-d0f9-4375-e34c-f44092ef5f9f"
      },
      "source": [
        "t1 = (\"Revanth Reddy\", True,100, 1.0)\n",
        "print(t1)"
      ],
      "execution_count": 4,
      "outputs": [
        {
          "output_type": "stream",
          "text": [
            "('Revanth Reddy', True, 100, 1.0)\n"
          ],
          "name": "stdout"
        }
      ]
    },
    {
      "cell_type": "markdown",
      "metadata": {
        "id": "5-2MggYpN6UC",
        "colab_type": "text"
      },
      "source": [
        "Write a python program to convert a tuple to a string"
      ]
    },
    {
      "cell_type": "code",
      "metadata": {
        "id": "fNNRerLMNttp",
        "colab_type": "code",
        "colab": {
          "base_uri": "https://localhost:8080/",
          "height": 34
        },
        "outputId": "c4d9b597-85d1-401e-b399-1907b3417521"
      },
      "source": [
        "t1=('R','e','v','a','n','t','h')\n",
        "str=''.join(t1)\n",
        "print(str)"
      ],
      "execution_count": 5,
      "outputs": [
        {
          "output_type": "stream",
          "text": [
            "Revanth\n"
          ],
          "name": "stdout"
        }
      ]
    },
    {
      "cell_type": "markdown",
      "metadata": {
        "id": "19WHh-1uOuP-",
        "colab_type": "text"
      },
      "source": [
        "Write a python program to slice a tuple"
      ]
    },
    {
      "cell_type": "code",
      "metadata": {
        "id": "LQOPSzT9OqLj",
        "colab_type": "code",
        "colab": {
          "base_uri": "https://localhost:8080/",
          "height": 34
        },
        "outputId": "8a0a5e78-d7fd-4bb1-8864-0ff4534b07cb"
      },
      "source": [
        "t1 = (1,2,3,4,5,6,7,8,9)\n",
        "slice=t1[1]\n",
        "print(slice)"
      ],
      "execution_count": 16,
      "outputs": [
        {
          "output_type": "stream",
          "text": [
            "2\n"
          ],
          "name": "stdout"
        }
      ]
    },
    {
      "cell_type": "markdown",
      "metadata": {
        "id": "EKdTnhE5b_UR",
        "colab_type": "text"
      },
      "source": [
        "Write a python program to find the length of a tuple"
      ]
    },
    {
      "cell_type": "code",
      "metadata": {
        "id": "BoFRmuu-Py5W",
        "colab_type": "code",
        "colab": {
          "base_uri": "https://localhost:8080/",
          "height": 51
        },
        "outputId": "bd011da8-0e95-413e-b7f2-046792a9c673"
      },
      "source": [
        "t1=(\"Gitam\")\n",
        "print(len(t1))\n",
        "print(t1)\n"
      ],
      "execution_count": 10,
      "outputs": [
        {
          "output_type": "stream",
          "text": [
            "5\n",
            "Gitam\n"
          ],
          "name": "stdout"
        }
      ]
    },
    {
      "cell_type": "markdown",
      "metadata": {
        "id": "K6hoXVnJcj0B",
        "colab_type": "text"
      },
      "source": [
        "Write a python program to reverse a tuple"
      ]
    },
    {
      "cell_type": "code",
      "metadata": {
        "id": "0P5U1jGacZVe",
        "colab_type": "code",
        "colab": {
          "base_uri": "https://localhost:8080/",
          "height": 34
        },
        "outputId": "c265a798-6fe1-414a-ab6b-61486542cc9a"
      },
      "source": [
        "x=(1,2,3,4,5,6,7)\n",
        "y=reversed(x)\n",
        "print(tuple(y))"
      ],
      "execution_count": 12,
      "outputs": [
        {
          "output_type": "stream",
          "text": [
            "(7, 6, 5, 4, 3, 2, 1)\n"
          ],
          "name": "stdout"
        }
      ]
    },
    {
      "cell_type": "code",
      "metadata": {
        "id": "Zct5C5PzdC1T",
        "colab_type": "code",
        "colab": {}
      },
      "source": [
        ""
      ],
      "execution_count": null,
      "outputs": []
    },
    {
      "cell_type": "markdown",
      "metadata": {
        "id": "KxOV1KsxdIRv",
        "colab_type": "text"
      },
      "source": [
        "Write a python program to convert a list to a tuple "
      ]
    },
    {
      "cell_type": "code",
      "metadata": {
        "id": "88e4UvoxdTEv",
        "colab_type": "code",
        "colab": {
          "base_uri": "https://localhost:8080/",
          "height": 51
        },
        "outputId": "6845aebc-35f5-4155-91e5-1a56735cf460"
      },
      "source": [
        "l1=[1,2,3,44,555,6]\n",
        "print(l1)\n",
        "t1=tuple(l1)\n",
        "print(t1)"
      ],
      "execution_count": 13,
      "outputs": [
        {
          "output_type": "stream",
          "text": [
            "[1, 2, 3, 44, 555, 6]\n",
            "(1, 2, 3, 44, 555, 6)\n"
          ],
          "name": "stdout"
        }
      ]
    },
    {
      "cell_type": "code",
      "metadata": {
        "id": "hEC8FQxwdoNY",
        "colab_type": "code",
        "colab": {}
      },
      "source": [
        ""
      ],
      "execution_count": null,
      "outputs": []
    }
  ]
}